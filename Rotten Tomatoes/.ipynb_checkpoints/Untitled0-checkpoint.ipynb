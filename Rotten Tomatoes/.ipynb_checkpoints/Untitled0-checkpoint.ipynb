{
 "metadata": {
  "name": "",
  "signature": "sha256:f88ae7ff2a0940dfb0ae50a1a0b7fc1a21a8810860083434074f214f84fbc9fa"
 },
 "nbformat": 3,
 "nbformat_minor": 0,
 "worksheets": []
}