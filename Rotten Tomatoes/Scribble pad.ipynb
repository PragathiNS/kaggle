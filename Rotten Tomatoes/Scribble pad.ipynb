{
 "metadata": {
  "name": "",
  "signature": "sha256:878f6d81f56572edeef5ffa1eb76f0e29f258e4907c71f6e926594e2baab9264"
 },
 "nbformat": 3,
 "nbformat_minor": 0,
 "worksheets": [
  {
   "cells": [
    {
     "cell_type": "code",
     "collapsed": false,
     "input": [
      "import pandas as pd\n",
      "import numpy as np\n",
      "from __future__ import division"
     ],
     "language": "python",
     "metadata": {},
     "outputs": [],
     "prompt_number": 31
    },
    {
     "cell_type": "code",
     "collapsed": false,
     "input": [
      "train = pd.read_csv('data/train.tsv', sep='\\t')"
     ],
     "language": "python",
     "metadata": {},
     "outputs": [],
     "prompt_number": 32
    },
    {
     "cell_type": "code",
     "collapsed": false,
     "input": [
      "train['Phrase'][0]"
     ],
     "language": "python",
     "metadata": {},
     "outputs": [
      {
       "metadata": {},
       "output_type": "pyout",
       "prompt_number": 33,
       "text": [
        "'A series of escapades demonstrating the adage that what is good for the goose is also good for the gander , some of which occasionally amuses but none of which amounts to much of a story .'"
       ]
      }
     ],
     "prompt_number": 33
    },
    {
     "cell_type": "code",
     "collapsed": false,
     "input": [
      "train['PhraseLength'] = train['Phrase'].apply(lambda x: len(x.split()))"
     ],
     "language": "python",
     "metadata": {},
     "outputs": [],
     "prompt_number": 34
    },
    {
     "cell_type": "code",
     "collapsed": false,
     "input": [
      "almost_dict = train[(train['PhraseLength'] == 1)][['Phrase', 'Sentiment']]\n",
      "almost_dict['Phrase'] = almost_dict['Phrase'].apply(lambda x: x.lower())"
     ],
     "language": "python",
     "metadata": {},
     "outputs": [],
     "prompt_number": 191
    },
    {
     "cell_type": "code",
     "collapsed": false,
     "input": [
      "unigram_score =almost_dict.set_index('Phrase').to_dict()['Sentiment']"
     ],
     "language": "python",
     "metadata": {},
     "outputs": [],
     "prompt_number": 192
    },
    {
     "cell_type": "code",
     "collapsed": false,
     "input": [
      "def score_phrase(phrase):\n",
      "    score = 0\n",
      "    words = phrase.split()\n",
      "    words_counted = 0\n",
      "    if len(words) == 0:\n",
      "        return 2\n",
      "    for word in words:\n",
      "        if word in unigram_score:\n",
      "            words_counted += 1\n",
      "            score += unigram_score[word]\n",
      "    if words_counted == 0:\n",
      "        return 2\n",
      "    return int(round(score / words_counted))"
     ],
     "language": "python",
     "metadata": {},
     "outputs": [],
     "prompt_number": 193
    },
    {
     "cell_type": "code",
     "collapsed": false,
     "input": [
      "score_phrase(\"abused\")"
     ],
     "language": "python",
     "metadata": {},
     "outputs": [
      {
       "metadata": {},
       "output_type": "pyout",
       "prompt_number": 194,
       "text": [
        "1"
       ]
      }
     ],
     "prompt_number": 194
    },
    {
     "cell_type": "code",
     "collapsed": false,
     "input": [
      "train['predict'] = train['Phrase'].apply(lambda x: score_phrase(x))"
     ],
     "language": "python",
     "metadata": {},
     "outputs": [],
     "prompt_number": 195
    },
    {
     "cell_type": "code",
     "collapsed": false,
     "input": [
      "train[train['predict'] != 2].shape"
     ],
     "language": "python",
     "metadata": {},
     "outputs": [
      {
       "metadata": {},
       "output_type": "pyout",
       "prompt_number": 196,
       "text": [
        "(18094, 7)"
       ]
      }
     ],
     "prompt_number": 196
    },
    {
     "cell_type": "code",
     "collapsed": false,
     "input": [
      "test = pd.read_csv('data/test.tsv', sep='\\t')"
     ],
     "language": "python",
     "metadata": {},
     "outputs": [],
     "prompt_number": 197
    },
    {
     "cell_type": "code",
     "collapsed": false,
     "input": [
      "test['Sentiment'] = test['Phrase'].apply(lambda x: score_phrase(x))"
     ],
     "language": "python",
     "metadata": {},
     "outputs": [],
     "prompt_number": 198
    },
    {
     "cell_type": "code",
     "collapsed": false,
     "input": [
      "test.to_csv('data/submission.csv', index=False, columns =['PhraseId', 'Sentiment'])"
     ],
     "language": "python",
     "metadata": {},
     "outputs": [],
     "prompt_number": 199
    },
    {
     "cell_type": "code",
     "collapsed": false,
     "input": [
      "np.mean(train['predict'] == train['Sentiment'])"
     ],
     "language": "python",
     "metadata": {},
     "outputs": [
      {
       "metadata": {},
       "output_type": "pyout",
       "prompt_number": 200,
       "text": [
        "0.55046136101499421"
       ]
      }
     ],
     "prompt_number": 200
    },
    {
     "cell_type": "code",
     "collapsed": false,
     "input": [
      "from nltk.stem.porter import PorterStemmer\n",
      "from nltk.stem.snowball import SnowballStemmer"
     ],
     "language": "python",
     "metadata": {},
     "outputs": [],
     "prompt_number": 201
    },
    {
     "cell_type": "code",
     "collapsed": false,
     "input": [
      "porter = PorterStemmer()\n",
      "snowball = SnowballStemmer('english')"
     ],
     "language": "python",
     "metadata": {},
     "outputs": [],
     "prompt_number": 202
    },
    {
     "cell_type": "code",
     "collapsed": false,
     "input": [
      "almost_dict['StemmedPhrase'] = almost_dict['Phrase'].apply(lambda x: porter.stem(x))"
     ],
     "language": "python",
     "metadata": {},
     "outputs": [],
     "prompt_number": 203
    },
    {
     "cell_type": "code",
     "collapsed": false,
     "input": [
      "almost_dict[almost_dict['StemmedPhrase'] == 'good']"
     ],
     "language": "python",
     "metadata": {},
     "outputs": [
      {
       "html": [
        "<div style=\"max-height:1000px;max-width:1500px;overflow:auto;\">\n",
        "<table border=\"1\" class=\"dataframe\">\n",
        "  <thead>\n",
        "    <tr style=\"text-align: right;\">\n",
        "      <th></th>\n",
        "      <th>Phrase</th>\n",
        "      <th>Sentiment</th>\n",
        "      <th>StemmedPhrase</th>\n",
        "    </tr>\n",
        "  </thead>\n",
        "  <tbody>\n",
        "    <tr>\n",
        "      <th>22   </th>\n",
        "      <td>     good</td>\n",
        "      <td> 3</td>\n",
        "      <td> good</td>\n",
        "    </tr>\n",
        "    <tr>\n",
        "      <th>9055 </th>\n",
        "      <td>  gooding</td>\n",
        "      <td> 2</td>\n",
        "      <td> good</td>\n",
        "    </tr>\n",
        "    <tr>\n",
        "      <th>11478</th>\n",
        "      <td> goodness</td>\n",
        "      <td> 3</td>\n",
        "      <td> good</td>\n",
        "    </tr>\n",
        "    <tr>\n",
        "      <th>46556</th>\n",
        "      <td>    goods</td>\n",
        "      <td> 2</td>\n",
        "      <td> good</td>\n",
        "    </tr>\n",
        "  </tbody>\n",
        "</table>\n",
        "</div>"
       ],
       "metadata": {},
       "output_type": "pyout",
       "prompt_number": 204,
       "text": [
        "         Phrase  Sentiment StemmedPhrase\n",
        "22         good          3          good\n",
        "9055    gooding          2          good\n",
        "11478  goodness          3          good\n",
        "46556     goods          2          good"
       ]
      }
     ],
     "prompt_number": 204
    },
    {
     "cell_type": "code",
     "collapsed": false,
     "input": [
      "stemmed_dict = almost_dict.groupby('StemmedPhrase')['Sentiment'].mean().to_dict()"
     ],
     "language": "python",
     "metadata": {},
     "outputs": [],
     "prompt_number": 205
    },
    {
     "cell_type": "code",
     "collapsed": false,
     "input": [
      "def score_stemmed_phrase(phrase):\n",
      "    score = 0\n",
      "    words = phrase.split()\n",
      "    words_counted = 0\n",
      "    if len(words) == 0:\n",
      "        return 2\n",
      "    for word in words:\n",
      "        word = porter.stem(word)\n",
      "        if word in stemmed_dict:\n",
      "            words_counted += 1\n",
      "            score += stemmed_dict[word]\n",
      "    if words_counted == 0:\n",
      "        return 2\n",
      "    return int(round(score / words_counted))"
     ],
     "language": "python",
     "metadata": {},
     "outputs": [],
     "prompt_number": 206
    },
    {
     "cell_type": "code",
     "collapsed": false,
     "input": [
      "score_stemmed_phrase('positively thrilling combination'), score_phrase('positively thrilling combination')"
     ],
     "language": "python",
     "metadata": {},
     "outputs": [
      {
       "metadata": {},
       "output_type": "pyout",
       "prompt_number": 207,
       "text": [
        "(3, 3)"
       ]
      }
     ],
     "prompt_number": 207
    },
    {
     "cell_type": "code",
     "collapsed": false,
     "input": [
      "train['predict_stem'] = train['Phrase'].apply(lambda x: score_stemmed_phrase(x))"
     ],
     "language": "python",
     "metadata": {},
     "outputs": [],
     "prompt_number": 208
    },
    {
     "cell_type": "code",
     "collapsed": false,
     "input": [
      "np.mean(train['Sentiment'] == train['predict'])"
     ],
     "language": "python",
     "metadata": {},
     "outputs": [
      {
       "metadata": {},
       "output_type": "pyout",
       "prompt_number": 209,
       "text": [
        "0.55046136101499421"
       ]
      }
     ],
     "prompt_number": 209
    },
    {
     "cell_type": "code",
     "collapsed": false,
     "input": [
      "test['predict_stem'] = test['Phrase'].apply(lambda x: score_stemmed_phrase(x))"
     ],
     "language": "python",
     "metadata": {},
     "outputs": [],
     "prompt_number": 210
    },
    {
     "cell_type": "code",
     "collapsed": false,
     "input": [
      "a=test[['PhraseId', 'predict_stem']]\n",
      "a.columns=['PhraseId', 'Sentiment']\n",
      "a.to_csv('data/submission2.csv', index = False)"
     ],
     "language": "python",
     "metadata": {},
     "outputs": [],
     "prompt_number": 172
    },
    {
     "cell_type": "code",
     "collapsed": false,
     "input": [
      "from nltk.tokenize import WordPunctTokenizer\n",
      "from nltk.collocations import BigramCollocationFinder\n",
      "from nltk.metrics import BigramAssocMeasures"
     ],
     "language": "python",
     "metadata": {},
     "outputs": [],
     "prompt_number": 179
    },
    {
     "cell_type": "code",
     "collapsed": false,
     "input": [
      "tokenizer = WordPunctTokenizer()"
     ],
     "language": "python",
     "metadata": {},
     "outputs": [],
     "prompt_number": 180
    },
    {
     "cell_type": "code",
     "collapsed": false,
     "input": [
      "tokens = tokenizer.tokenize('place this strings into tokens')"
     ],
     "language": "python",
     "metadata": {},
     "outputs": [],
     "prompt_number": 181
    },
    {
     "cell_type": "code",
     "collapsed": false,
     "input": [
      "bigram_finder = BigramCollocationFinder.from_words(tokens)\n",
      "bigrams = bigram_finder.nbest(BigramAssocMeasures.chi_sq, 500)"
     ],
     "language": "python",
     "metadata": {},
     "outputs": [],
     "prompt_number": 182
    },
    {
     "cell_type": "code",
     "collapsed": false,
     "input": [
      "bigrams"
     ],
     "language": "python",
     "metadata": {},
     "outputs": [
      {
       "metadata": {},
       "output_type": "pyout",
       "prompt_number": 183,
       "text": [
        "[('into', 'tokens'),\n",
        " ('place', 'this'),\n",
        " ('strings', 'into'),\n",
        " ('this', 'strings')]"
       ]
      }
     ],
     "prompt_number": 183
    },
    {
     "cell_type": "code",
     "collapsed": false,
     "input": [
      "tokens"
     ],
     "language": "python",
     "metadata": {},
     "outputs": [
      {
       "metadata": {},
       "output_type": "pyout",
       "prompt_number": 184,
       "text": [
        "['place', 'this', 'strings', 'into', 'tokens']"
       ]
      }
     ],
     "prompt_number": 184
    },
    {
     "cell_type": "code",
     "collapsed": false,
     "input": [
      "zip(tokens, tokens[1:])"
     ],
     "language": "python",
     "metadata": {},
     "outputs": [
      {
       "metadata": {},
       "output_type": "pyout",
       "prompt_number": 188,
       "text": [
        "[('place', 'this'),\n",
        " ('this', 'strings'),\n",
        " ('strings', 'into'),\n",
        " ('into', 'tokens')]"
       ]
      }
     ],
     "prompt_number": 188
    },
    {
     "cell_type": "code",
     "collapsed": false,
     "input": [
      "from collections import defaultdict\n",
      "bigram_dict_stemmed = dict()\n",
      "for row in train[train['PhraseLength'] == 2][['Phrase', 'Sentiment']].values:\n",
      "    words = tuple(porter.stem(word.lower()) for word in row[0].split())\n",
      "    if words not in bigram_dict_stemmed:\n",
      "        bigram_dict_stemmed[words] = np.array([sent, 1])\n",
      "    else:\n",
      "        bigram_dict_stemmed[words] += np.array([sent, 1])    "
     ],
     "language": "python",
     "metadata": {},
     "outputs": [],
     "prompt_number": 240
    },
    {
     "cell_type": "code",
     "collapsed": false,
     "input": [
      "import re"
     ],
     "language": "python",
     "metadata": {},
     "outputs": [],
     "prompt_number": 243
    },
    {
     "cell_type": "code",
     "collapsed": false,
     "input": [
      "re.sub(\"s\",'', \"movie 's\")"
     ],
     "language": "python",
     "metadata": {},
     "outputs": [
      {
       "metadata": {},
       "output_type": "pyout",
       "prompt_number": 248,
       "text": [
        "\"movie '\""
       ]
      }
     ],
     "prompt_number": 248
    },
    {
     "cell_type": "code",
     "collapsed": false,
     "input": [
      "train['cleantrain['Phrase'].apply(lambda x: x.replace(\" 's\", \"s\").replace(\" 't\", \"t\").replace(\"'\",\"\").lower())"
     ],
     "language": "python",
     "metadata": {},
     "outputs": [
      {
       "metadata": {},
       "output_type": "pyout",
       "prompt_number": 250,
       "text": [
        "0     A series of escapades demonstrating the adage ...\n",
        "1     A series of escapades demonstrating the adage ...\n",
        "2                                              A series\n",
        "3                                                     A\n",
        "4                                                series\n",
        "5     of escapades demonstrating the adage that what...\n",
        "6                                                    of\n",
        "7     escapades demonstrating the adage that what is...\n",
        "8                                             escapades\n",
        "9     demonstrating the adage that what is good for ...\n",
        "10                              demonstrating the adage\n",
        "11                                        demonstrating\n",
        "12                                            the adage\n",
        "13                                                  the\n",
        "14                                                adage\n",
        "...\n",
        "156045    Herrmann quietly suggesting the sadness and ob...\n",
        "156046                                             Herrmann\n",
        "156047    quietly suggesting the sadness and obsession b...\n",
        "156048    suggesting the sadness and obsession beneath H...\n",
        "156049                 suggesting the sadness and obsession\n",
        "156050                            the sadness and obsession\n",
        "156051                                sadness and obsession\n",
        "156052                                          sadness and\n",
        "156053            beneath Hearsts forced avuncular chortles\n",
        "156054                    Hearsts forced avuncular chortles\n",
        "156055                                              Hearsts\n",
        "156056                            forced avuncular chortles\n",
        "156057                                   avuncular chortles\n",
        "156058                                            avuncular\n",
        "156059                                             chortles\n",
        "Name: Phrase, Length: 156060, dtype: object"
       ]
      }
     ],
     "prompt_number": 250
    },
    {
     "cell_type": "code",
     "collapsed": false,
     "input": [],
     "language": "python",
     "metadata": {},
     "outputs": []
    }
   ],
   "metadata": {}
  }
 ]
}