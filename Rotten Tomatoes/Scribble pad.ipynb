{
 "metadata": {
  "name": "",
  "signature": "sha256:8acc9d2e344ac5960dd926e3a1421e26a82a74ad58d5fadee026036e0a0bdc9e"
 },
 "nbformat": 3,
 "nbformat_minor": 0,
 "worksheets": [
  {
   "cells": [
    {
     "cell_type": "code",
     "collapsed": false,
     "input": [
      "import pandas as pd\n",
      "import numpy as np\n",
      "from __future__ import division\n",
      "import re\n",
      "from nltk.tokenize import WordPunctTokenizer\n",
      "from nltk.collocations import BigramCollocationFinder\n",
      "from nltk.metrics import BigramAssocMeasures\n",
      "from nltk.corpus import stopwords\n",
      "from nltk.stem.porter import PorterStemmer\n",
      "from nltk.stem.snowball import SnowballStemmer\n",
      "from sklearn.feature_extraction.text import CountVectorizer, TfidfVectorizer\n",
      "from sklearn.naive_bayes import MultinomialNB\n",
      "from sklearn.svm import SVC\n",
      "from sklearn.ensemble import RandomForestClassifier\n",
      "porter = PorterStemmer()\n",
      "snowball = SnowballStemmer('english')"
     ],
     "language": "python",
     "metadata": {},
     "outputs": [
      {
       "output_type": "stream",
       "stream": "stderr",
       "text": [
        "/Users/Ted/anaconda/lib/python2.7/site-packages/pandas/io/excel.py:626: UserWarning: Installed openpyxl is not supported at this time. Use >=1.6.1 and <2.0.0.\n",
        "  .format(openpyxl_compat.start_ver, openpyxl_compat.stop_ver))\n"
       ]
      }
     ],
     "prompt_number": 1
    },
    {
     "cell_type": "code",
     "collapsed": false,
     "input": [
      "train = pd.read_csv('data/train.tsv', sep='\\t')"
     ],
     "language": "python",
     "metadata": {},
     "outputs": [],
     "prompt_number": 2
    },
    {
     "cell_type": "code",
     "collapsed": false,
     "input": [
      "test = pd.read_csv('data/test.tsv', sep='\\t')"
     ],
     "language": "python",
     "metadata": {},
     "outputs": [],
     "prompt_number": 3
    },
    {
     "cell_type": "code",
     "collapsed": false,
     "input": [
      "tokenizer = WordPunctTokenizer()"
     ],
     "language": "python",
     "metadata": {},
     "outputs": [],
     "prompt_number": 4
    },
    {
     "cell_type": "code",
     "collapsed": false,
     "input": [
      "tokens = tokenizer.tokenize('place this strings into tokens')"
     ],
     "language": "python",
     "metadata": {},
     "outputs": [],
     "prompt_number": 5
    },
    {
     "cell_type": "code",
     "collapsed": false,
     "input": [
      "bigram_finder = BigramCollocationFinder.from_words(tokens)\n",
      "bigrams = bigram_finder.nbest(BigramAssocMeasures.chi_sq, 500)"
     ],
     "language": "python",
     "metadata": {},
     "outputs": [],
     "prompt_number": 6
    },
    {
     "cell_type": "code",
     "collapsed": false,
     "input": [
      "phrase = '5 5234234asf k 234 3443 a'\n",
      "re.sub(' [a-z] | [a-z]$|^[0-9a-z] ', ' ', phrase)"
     ],
     "language": "python",
     "metadata": {},
     "outputs": [
      {
       "metadata": {},
       "output_type": "pyout",
       "prompt_number": 7,
       "text": [
        "' 5234234asf 234 3443 '"
       ]
      }
     ],
     "prompt_number": 7
    },
    {
     "cell_type": "code",
     "collapsed": false,
     "input": [
      "def clean_phrase(phrase):\n",
      "    phrase = re.sub(\"[^a-zA-Z]\",' ',  phrase.lower())\n",
      "    phrase = re.sub(\" . |^. | .$\",' ',  phrase.lower())\n",
      "    phrase = re.sub('[0-9]{0,10}', 'd', phrase)\n",
      "    phrase = re.sub(' [0-9a-z] | [0-9a-z]$|^[0-9a-z] ', ' ', phrase)\n",
      "    phrase = ' '.join([porter.stem(word) for word in phrase.split() if word not in stops and len(word) > 1])\n",
      "    return phrase"
     ],
     "language": "python",
     "metadata": {},
     "outputs": [],
     "prompt_number": 8
    },
    {
     "cell_type": "code",
     "collapsed": false,
     "input": [
      "stops =  stopwords.words('english')\n",
      "stops.remove('not')\n",
      "stops.remove('but')\n",
      "train['clean_phrase']=train['Phrase'].apply(clean_phrase)\n",
      "train['PhraseLength'] = train['clean_phrase'].apply(lambda x: len(x.split()))"
     ],
     "language": "python",
     "metadata": {},
     "outputs": [],
     "prompt_number": 9
    },
    {
     "cell_type": "code",
     "collapsed": false,
     "input": [
      "almost_bigram_dict = train[train['PhraseLength'] == 2][['clean_phrase', 'Sentiment']]"
     ],
     "language": "python",
     "metadata": {},
     "outputs": [],
     "prompt_number": 10
    },
    {
     "cell_type": "code",
     "collapsed": false,
     "input": [
      "almost_unigram_dict = train[train['PhraseLength'] == 1][['clean_phrase', 'Sentiment']]"
     ],
     "language": "python",
     "metadata": {},
     "outputs": [],
     "prompt_number": 11
    },
    {
     "cell_type": "code",
     "collapsed": false,
     "input": [
      "unigram_score_clean = almost_unigram_dict.groupby('clean_phrase')['Sentiment'].mean().to_dict()"
     ],
     "language": "python",
     "metadata": {},
     "outputs": [],
     "prompt_number": 12
    },
    {
     "cell_type": "code",
     "collapsed": false,
     "input": [
      "bigram_dict = dict()\n",
      "for row in pd.DataFrame(almost_bigram_dict.groupby('clean_phrase')['Sentiment'].mean()).reset_index().values:\n",
      "    bigram_dict[tuple(row[0].split())] = row[1]"
     ],
     "language": "python",
     "metadata": {},
     "outputs": [],
     "prompt_number": 13
    },
    {
     "cell_type": "code",
     "collapsed": false,
     "input": [
      "def score_phrase(phrase, score = 0, total_found = 0):\n",
      "#     print phrase, score, total_found\n",
      "    if len(phrase) == 0:\n",
      "        return 2 if total_found ==0 else score / total_found\n",
      "    if len(phrase) == 1:\n",
      "        temp_score = unigram_score_clean.get(phrase[0], 2)\n",
      "        if temp_score <= 1.5 or temp_score >= 2.5:\n",
      "            return (score + temp_score) / (total_found + 1)\n",
      "        else:\n",
      "            return 2 if total_found ==0 else score / total_found\n",
      "    if len(phrase) == 2:\n",
      "        if phrase in bigram_dict:\n",
      "            temp_score = bigram_dict[phrase]\n",
      "            if temp_score <= 1.5 or temp_score >= 2.5:\n",
      "                return (score + temp_score) / (total_found + 1)\n",
      "            else:\n",
      "                return 2 if total_found == 0 else score / total_found\n",
      "        else:\n",
      "            temp_score = unigram_score_clean.get(phrase[0], 2)\n",
      "            if temp_score <= 1.5 or temp_score >= 2.5:\n",
      "                return score_phrase(phrase[1:], score + temp_score, total_found + 1)\n",
      "            else:\n",
      "                return score_phrase(phrase[1:], score, total_found)\n",
      "    else:\n",
      "        if phrase[:2] in bigram_dict:\n",
      "            temp_score = bigram_dict[phrase[:2]]\n",
      "            if temp_score <= 1.5 or temp_score >= 2.5:\n",
      "                return score_phrase(phrase[2:], score + temp_score, total_found + 1)\n",
      "            else:\n",
      "                return score_phrase(phrase[2:], score, total_found)\n",
      "        elif phrase[0] in unigram_score_clean:\n",
      "            temp_score = unigram_score_clean[phrase[0]]\n",
      "            if temp_score <= 1.5 or temp_score >= 2.5:\n",
      "                return score_phrase(phrase[1:], score + temp_score, total_found + 1)\n",
      "            else:\n",
      "                return score_phrase(phrase[1:], score, total_found)\n",
      "        else:\n",
      "            return score_phrase(phrase[1:], score, total_found)   "
     ],
     "language": "python",
     "metadata": {},
     "outputs": [],
     "prompt_number": 14
    },
    {
     "cell_type": "code",
     "collapsed": false,
     "input": [
      "train['bigram_score'] = train['clean_phrase'].apply(lambda x: round(score_phrase(tuple(x.split()))))"
     ],
     "language": "python",
     "metadata": {},
     "outputs": [],
     "prompt_number": 15
    },
    {
     "cell_type": "code",
     "collapsed": false,
     "input": [
      "np.mean(train['bigram_score'] == train['Sentiment'])"
     ],
     "language": "python",
     "metadata": {},
     "outputs": [
      {
       "metadata": {},
       "output_type": "pyout",
       "prompt_number": 16,
       "text": [
        "0.63030244777649624"
       ]
      }
     ],
     "prompt_number": 16
    },
    {
     "cell_type": "code",
     "collapsed": false,
     "input": [
      "test = pd.read_csv('data/test.tsv', sep='\\t')\n",
      "test['clean_phrase']=test['Phrase'].apply(clean_phrase)\n",
      "test['PhraseLength'] = test['clean_phrase'].apply(lambda x: len(x.split()))\n",
      "test['bigram_score'] = test['clean_phrase'].apply(lambda x: int(round(score_phrase(tuple(x.split())))))"
     ],
     "language": "python",
     "metadata": {},
     "outputs": [],
     "prompt_number": 17
    },
    {
     "cell_type": "code",
     "collapsed": false,
     "input": [
      "len(bigram_dict)"
     ],
     "language": "python",
     "metadata": {},
     "outputs": [
      {
       "metadata": {},
       "output_type": "pyout",
       "prompt_number": 18,
       "text": [
        "24475"
       ]
      }
     ],
     "prompt_number": 18
    },
    {
     "cell_type": "code",
     "collapsed": false,
     "input": [
      "test[['PhraseId', 'bigram_score']].rename(columns={'bigram_score' : 'Sentiment'}).to_csv('data/bigram_predictor.csv', index=False)"
     ],
     "language": "python",
     "metadata": {},
     "outputs": [],
     "prompt_number": 19
    },
    {
     "cell_type": "code",
     "collapsed": false,
     "input": [
      "cv = CountVectorizer()"
     ],
     "language": "python",
     "metadata": {},
     "outputs": [],
     "prompt_number": 20
    },
    {
     "cell_type": "code",
     "collapsed": false,
     "input": [
      "x = cv.fit_transform(train[train['PhraseLength'] > 0]['Phrase'])"
     ],
     "language": "python",
     "metadata": {},
     "outputs": [],
     "prompt_number": 53
    },
    {
     "cell_type": "code",
     "collapsed": false,
     "input": [
      "y = train[train['PhraseLength'] > 0]['Sentiment'].values"
     ],
     "language": "python",
     "metadata": {},
     "outputs": [],
     "prompt_number": 54
    },
    {
     "cell_type": "code",
     "collapsed": false,
     "input": [
      "mb = MultinomialNB()"
     ],
     "language": "python",
     "metadata": {},
     "outputs": [],
     "prompt_number": 55
    },
    {
     "cell_type": "code",
     "collapsed": false,
     "input": [
      "model = mb.fit(x, y)"
     ],
     "language": "python",
     "metadata": {},
     "outputs": [],
     "prompt_number": 56
    },
    {
     "cell_type": "code",
     "collapsed": false,
     "input": [
      "a= model.predict(x)"
     ],
     "language": "python",
     "metadata": {},
     "outputs": [],
     "prompt_number": 57
    },
    {
     "cell_type": "code",
     "collapsed": false,
     "input": [
      "np.mean(a == y)"
     ],
     "language": "python",
     "metadata": {},
     "outputs": [
      {
       "metadata": {},
       "output_type": "pyout",
       "prompt_number": 58,
       "text": [
        "0.66437156138275244"
       ]
      }
     ],
     "prompt_number": 58
    },
    {
     "cell_type": "code",
     "collapsed": false,
     "input": [
      "test_long = test[test['PhraseLength'] > 0]\n",
      "x2 = cv.transform(test_long['Phrase'])\n",
      "test_long['nb_predict'] = model.predict(x2)"
     ],
     "language": "python",
     "metadata": {},
     "outputs": [],
     "prompt_number": 61
    },
    {
     "cell_type": "code",
     "collapsed": false,
     "input": [
      "f = pd.merge(test, test_long[['PhraseId', 'nb_predict']], how='left')"
     ],
     "language": "python",
     "metadata": {},
     "outputs": [],
     "prompt_number": 71
    },
    {
     "cell_type": "code",
     "collapsed": false,
     "input": [
      "test_long.shape"
     ],
     "language": "python",
     "metadata": {},
     "outputs": [
      {
       "metadata": {},
       "output_type": "pyout",
       "prompt_number": 72,
       "text": [
        "(65551, 7)"
       ]
      }
     ],
     "prompt_number": 72
    },
    {
     "cell_type": "code",
     "collapsed": false,
     "input": [
      "test.shape"
     ],
     "language": "python",
     "metadata": {},
     "outputs": [
      {
       "metadata": {},
       "output_type": "pyout",
       "prompt_number": 73,
       "text": [
        "(66292, 6)"
       ]
      }
     ],
     "prompt_number": 73
    },
    {
     "cell_type": "code",
     "collapsed": false,
     "input": [
      "f['nb_predict'] = f['nb_predict'].fillna(2)"
     ],
     "language": "python",
     "metadata": {},
     "outputs": [],
     "prompt_number": 77
    },
    {
     "cell_type": "code",
     "collapsed": false,
     "input": [
      "g = f[['PhraseId', 'nb_predict']].rename(columns = {'nb_predict': 'Sentiment'}) #.to_csv('data/nb_first.csv', index=False)"
     ],
     "language": "python",
     "metadata": {},
     "outputs": [],
     "prompt_number": 83
    },
    {
     "cell_type": "code",
     "collapsed": false,
     "input": [
      "g.astype(int).to_csv('data/nb_first.csv', index=False)"
     ],
     "language": "python",
     "metadata": {},
     "outputs": [],
     "prompt_number": 86
    },
    {
     "cell_type": "code",
     "collapsed": false,
     "input": [
      "cv = CountVectorizer(ngram_range=(1,2))\n",
      "x = cv.fit_transform(train[train['PhraseLength'] > 0]['Phrase'])\n",
      "y = train[train['PhraseLength'] > 0]['Sentiment'].values\n",
      "mb = MultinomialNB()\n",
      "model = mb.fit(x, y)\n",
      "\n",
      "test_long = test[test['PhraseLength'] > 0]\n",
      "x2 = cv.transform(test_long['Phrase'])\n",
      "test_long['nb_predict'] = model.predict(x2)\n",
      "f = pd.merge(test, test_long[['PhraseId', 'nb_predict']], how='left')\n",
      "f['nb_predict'] = f['nb_predict'].fillna(2)\n",
      "g = f[['PhraseId', 'nb_predict']].rename(columns = {'nb_predict': 'Sentiment'}) \n",
      "g.astype(int).to_csv('data/nb_first.csv', index=False)"
     ],
     "language": "python",
     "metadata": {},
     "outputs": [],
     "prompt_number": 98
    },
    {
     "cell_type": "code",
     "collapsed": false,
     "input": [
      "a = pd.read_csv('data/nb_first.csv')"
     ],
     "language": "python",
     "metadata": {},
     "outputs": [],
     "prompt_number": 90
    },
    {
     "cell_type": "code",
     "collapsed": false,
     "input": [
      "np.mean(a['Sentiment'] == g['Sentiment'])"
     ],
     "language": "python",
     "metadata": {},
     "outputs": [
      {
       "metadata": {},
       "output_type": "pyout",
       "prompt_number": 93,
       "text": [
        "1.0"
       ]
      }
     ],
     "prompt_number": 93
    },
    {
     "cell_type": "code",
     "collapsed": false,
     "input": [
      "x"
     ],
     "language": "python",
     "metadata": {},
     "outputs": [
      {
       "metadata": {},
       "output_type": "pyout",
       "prompt_number": 94,
       "text": [
        "<154677x94643 sparse matrix of type '<type 'numpy.int64'>'\n",
        "\twith 1820254 stored elements in Compressed Sparse Column format>"
       ]
      }
     ],
     "prompt_number": 94
    },
    {
     "cell_type": "code",
     "collapsed": false,
     "input": [
      "cv = CountVectorizer(ngram_range=(1,1))\n",
      "x = cv.fit_transform(train[train['PhraseLength'] > 0]['Phrase'])\n",
      "x"
     ],
     "language": "python",
     "metadata": {},
     "outputs": [
      {
       "metadata": {},
       "output_type": "pyout",
       "prompt_number": 95,
       "text": [
        "<154677x94643 sparse matrix of type '<type 'numpy.int64'>'\n",
        "\twith 1820254 stored elements in Compressed Sparse Column format>"
       ]
      }
     ],
     "prompt_number": 95
    },
    {
     "cell_type": "code",
     "collapsed": false,
     "input": [
      "cv = CountVectorizer(ngram_range=(1,1))\n",
      "x = cv.fit_transform(train[train['PhraseLength'] > 0]['Phrase'])\n",
      "x"
     ],
     "language": "python",
     "metadata": {},
     "outputs": [
      {
       "metadata": {},
       "output_type": "pyout",
       "prompt_number": 96,
       "text": [
        "<154677x15240 sparse matrix of type '<type 'numpy.int64'>'\n",
        "\twith 969561 stored elements in Compressed Sparse Column format>"
       ]
      }
     ],
     "prompt_number": 96
    },
    {
     "cell_type": "code",
     "collapsed": false,
     "input": [
      "from sklearn.svm import SVR"
     ],
     "language": "python",
     "metadata": {},
     "outputs": [],
     "prompt_number": 99
    },
    {
     "cell_type": "code",
     "collapsed": false,
     "input": [
      "cv = CountVectorizer(ngram_range=(1,2))\n",
      "x = cv.fit_transform(train[train['PhraseLength'] > 0]['clean_phrase'])\n",
      "y = train[train['PhraseLength'] > 0]['Sentiment'].values\n",
      "mb = MultinomialNB()\n",
      "model = mb.fit(x, y)\n",
      "\n",
      "test_long = test[test['PhraseLength'] > 0]\n",
      "x2 = cv.transform(test_long['clean_phrase'])\n",
      "test_long['nb_predict'] = model.predict(x2)\n",
      "f = pd.merge(test, test_long[['PhraseId', 'nb_predict']], how='left')\n",
      "f['nb_predict'] = f['nb_predict'].fillna(2)\n",
      "g = f[['PhraseId', 'nb_predict']].rename(columns = {'nb_predict': 'Sentiment'}) \n",
      "g.astype(int).to_csv('data/nb_first.csv', index=False)"
     ],
     "language": "python",
     "metadata": {},
     "outputs": [],
     "prompt_number": 16
    },
    {
     "cell_type": "code",
     "collapsed": false,
     "input": [
      "train[(train['PhraseLength'] > 10) & (train['Sentiment'] != 2)].ix[311, :]['Phrase']"
     ],
     "language": "python",
     "metadata": {},
     "outputs": [
      {
       "metadata": {},
       "output_type": "pyout",
       "prompt_number": 25,
       "text": [
        "\"is Oedekerk 's realization of his childhood dream to be in a martial-arts flick , and proves that sometimes the dreams of youth should remain just that\""
       ]
      }
     ],
     "prompt_number": 25
    },
    {
     "cell_type": "code",
     "collapsed": false,
     "input": [
      "unigram_score_clean['dream']"
     ],
     "language": "python",
     "metadata": {},
     "outputs": [
      {
       "metadata": {},
       "output_type": "pyout",
       "prompt_number": 30,
       "text": [
        "2.263157894736842"
       ]
      }
     ],
     "prompt_number": 30
    },
    {
     "cell_type": "code",
     "collapsed": false,
     "input": [
      "score_phrase(tuple(train['clean_phrase'][311].split()))"
     ],
     "language": "python",
     "metadata": {},
     "outputs": [
      {
       "output_type": "stream",
       "stream": "stdout",
       "text": [
        "(u'oedekerk', u'realiz', u'childhood', u'dream', u'martial', u'art', u'flick', u'prove', u'sometim', u'dream', u'youth', u'remain') 0 0\n",
        "(u'childhood', u'dream', u'martial', u'art', u'flick', u'prove', u'sometim', u'dream', u'youth', u'remain') 0 0\n",
        "(u'martial', u'art', u'flick', u'prove', u'sometim', u'dream', u'youth', u'remain') 0 0\n",
        "(u'flick', u'prove', u'sometim', u'dream', u'youth', u'remain') 2.5 1\n",
        "(u'prove', u'sometim', u'dream', u'youth', u'remain') 2.5 1\n",
        "(u'sometim', u'dream', u'youth', u'remain') 2.5 1\n",
        "(u'dream', u'youth', u'remain') 2.5 1\n",
        "(u'remain',) 5.5 2\n"
       ]
      },
      {
       "metadata": {},
       "output_type": "pyout",
       "prompt_number": 45,
       "text": [
        "2.75"
       ]
      }
     ],
     "prompt_number": 45
    },
    {
     "cell_type": "code",
     "collapsed": false,
     "input": [
      "bigram_dict[('dream', 'youth')]"
     ],
     "language": "python",
     "metadata": {},
     "outputs": [
      {
       "metadata": {},
       "output_type": "pyout",
       "prompt_number": 48,
       "text": [
        "3.0"
       ]
      }
     ],
     "prompt_number": 48
    },
    {
     "cell_type": "code",
     "collapsed": false,
     "input": [
      "from __future__ import division"
     ],
     "language": "python",
     "metadata": {},
     "outputs": [],
     "prompt_number": 23
    },
    {
     "cell_type": "code",
     "collapsed": false,
     "input": [
      "def present_value(payments, i, n, y):\n",
      "    i = i / n\n",
      "    n = n * y\n",
      "    return payments * (1 - (1 + i) ** (-n))/ i\n",
      "\n",
      "\n",
      "def future_value(payments, i, n, y):\n",
      "    i = i / n\n",
      "    n = n * y\n",
      "    return payments * ((1 + i) ** n - 1) / i"
     ],
     "language": "python",
     "metadata": {},
     "outputs": [],
     "prompt_number": 24
    },
    {
     "cell_type": "code",
     "collapsed": false,
     "input": [
      "present_value(579.85, .0425, 12, 4)"
     ],
     "language": "python",
     "metadata": {},
     "outputs": [
      {
       "metadata": {},
       "output_type": "pyout",
       "prompt_number": 92,
       "text": [
        "25554.073844951436"
       ]
      }
     ],
     "prompt_number": 92
    },
    {
     "cell_type": "code",
     "collapsed": false,
     "input": [
      "future_value(579.85, .0425, 12, 4)"
     ],
     "language": "python",
     "metadata": {},
     "outputs": [
      {
       "metadata": {},
       "output_type": "pyout",
       "prompt_number": 91,
       "text": [
        "30280.272176034727"
       ]
      }
     ],
     "prompt_number": 91
    },
    {
     "cell_type": "code",
     "collapsed": false,
     "input": [
      "tf = CountVectorizer(ngram_range=(1, 1))\n",
      "x = tf.fit_transform(train[train['PhraseLength'] > 0]['Phrase'])\n",
      "y = train[train['PhraseLength'] > 0]['Sentiment'].values\n",
      "mb = RandomForestClassifier()\n",
      "model = mb.fit(x.toarray(), y)\n",
      "\n",
      "test_long = test[test['PhraseLength'] > 0]\n",
      "x2 = tf.transform(test_long['Phrase'])\n",
      "test_long['nb_predict'] = model.predict(x2)\n",
      "f = pd.merge(test, test_long[['PhraseId', 'nb_predict']], how='left')\n",
      "f['nb_predict'] = f['nb_predict'].fillna(2)\n",
      "g = f[['PhraseId', 'nb_predict']].rename(columns = {'nb_predict': 'Sentiment'}) \n",
      "g.astype(int).to_csv('data/nb_first.csv', index=False)"
     ],
     "language": "python",
     "metadata": {},
     "outputs": []
    },
    {
     "cell_type": "code",
     "collapsed": false,
     "input": [],
     "language": "python",
     "metadata": {},
     "outputs": []
    }
   ],
   "metadata": {}
  }
 ]
}